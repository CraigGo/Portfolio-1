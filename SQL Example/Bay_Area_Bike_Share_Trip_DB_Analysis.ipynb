{
 "cells": [
  {
   "cell_type": "code",
   "execution_count": 39,
   "metadata": {},
   "outputs": [],
   "source": [
    "import pandas as pd\n",
    "%matplotlib inline"
   ]
  },
  {
   "cell_type": "markdown",
   "metadata": {},
   "source": [
    "# Assigment 4 - Ford GoBike by Steve Dille"
   ]
  },
  {
   "cell_type": "markdown",
   "metadata": {},
   "source": [
    "Problem Statement\n",
    "- You're a data scientist at Ford GoBike (https://www.fordgobike.com/), the company running Bay Area Bikeshare. You are trying to increase ridership, and you want to offer deals through the mobile app to do so. What deals do you offer \n",
    "though? Currently, your company has three options: a flat price for a single one-way trip, a day pass that allows \n",
    "unlimited 30-minute rides for 24 hours and an annual membership. \n",
    "\n",
    "- Through this project, you will answer these questions: \n",
    "  * What are the 5 most popular trips that you would call \"commuter trips\"?\n",
    "  * What are your recommendations for offers (justify based on your findings)?\n",
    "    \n",
    "Assignment 04 - Employ notebooks to synthesize query project results\n",
    "* Get Going\n",
    "* Use JupyterHub on your midsw205 droplet to create a new python3 notebook.\n",
    "\n",
    "Run queries in the notebook\n",
    "! bq query --use_legacy_sql=FALSE '<your-query-here>'\n",
    "\n",
    "Report\n",
    "- Short description of findings and recommendations\n",
    "- If needed, add data visualizations to support recommendations"
   ]
  },
  {
   "cell_type": "markdown",
   "metadata": {},
   "source": [
    "# Analysis and Strategies for Increasing Riders and Revenues for Ford Bikes"
   ]
  },
  {
   "cell_type": "markdown",
   "metadata": {},
   "source": [
    "The general strategy we will employ is to increase the utilization of bike day passes to increase revenue.  To accomplish this, we analyze the data and look for low periods of ridership relative to norms that would be indicitive of surplus bike availability.  We then propose promotions to increase the number of day passes and revenue during these periods. We do not want to offer promotions during periods of peak ridership that would canabilize full price revenue streams.  "
   ]
  },
  {
   "cell_type": "markdown",
   "metadata": {},
   "source": [
    "# Background Information Queries"
   ]
  },
  {
   "cell_type": "markdown",
   "metadata": {},
   "source": [
    "What time period do we have trip data for?  We need to be sure data is consistent and the most recent as stations continued to be added or we may get misleading results. The most recent full year of data that would cover all holidays is 2015 so that will be used as 2016 is partial year.  "
   ]
  },
  {
   "cell_type": "code",
   "execution_count": 44,
   "metadata": {},
   "outputs": [
    {
     "name": "stdout",
     "output_type": "stream",
     "text": [
      "Waiting on bqjob_r4454fb82b24c9707_00000168b57e1003_1 ... (0s) Current status: DONE   \n",
      "+---------------------+---------------------+\n",
      "|    earliest_date    |     latest_date     |\n",
      "+---------------------+---------------------+\n",
      "| 2013-08-29 09:08:00 | 2016-08-31 23:32:00 |\n",
      "+---------------------+---------------------+\n"
     ]
    }
   ],
   "source": [
    "! bq query --use_legacy_sql=false 'SELECT min(start_date) as earliest_date, max(start_date) as latest_date FROM `bigquery-public-data.san_francisco.bikeshare_trips`'"
   ]
  },
  {
   "cell_type": "code",
   "execution_count": 32,
   "metadata": {},
   "outputs": [
    {
     "name": "stdout",
     "output_type": "stream",
     "text": [
      "Waiting on bqjob_r793ca15ca2ae5796_00000168b552f2b3_1 ... (1s) Current status: DONE   \n",
      "+------------------------------------------+-----------------------------------------+-----------+\n",
      "|            start_station_name            |            end_station_name             | num_trips |\n",
      "+------------------------------------------+-----------------------------------------+-----------+\n",
      "| San Francisco Caltrain 2 (330 Townsend)  | Townsend at 7th                         |      6249 |\n",
      "| Harry Bridges Plaza (Ferry Building)     | 2nd at Townsend                         |      5151 |\n",
      "| Steuart at Market                        | 2nd at Townsend                         |      4736 |\n",
      "| San Francisco Caltrain (Townsend at 4th) | Harry Bridges Plaza (Ferry Building)    |      4332 |\n",
      "| Townsend at 7th                          | San Francisco Caltrain 2 (330 Townsend) |      4191 |\n",
      "+------------------------------------------+-----------------------------------------+-----------+\n"
     ]
    }
   ],
   "source": [
    "# What are the five most popular commuter trips?  I defined commuter trips to be: less than 30 minutes, between the \n",
    "# hours of 7AM to 10AM and 5PM to 8PM, being on Monday to Friday and not starting and ending at the same station as\n",
    "# that is more likely an errand.  \n",
    "# We probably want to avoid promotions during the most popular trip times.\n",
    "\n",
    "! bq query --use_legacy_sql=false 'SELECT start_station_name, end_station_name, count(*) as num_trips FROM `bigquery-public-data.san_francisco.bikeshare_trips` WHERE start_station_name <> end_station_name and duration_sec < 1800 and ((EXTRACT(hour from start_date) between 7 and 10) OR (EXTRACT(hour from start_date) between 17 and 20)) AND (EXTRACT (dayofweek from start_date) between 2 and 6) and subscriber_type = \"Subscriber\" and (EXTRACT (dayofweek from start_date) between 2 and 6) GROUP BY start_station_name, end_station_name ORDER BY num_trips desc limit 5'\n"
   ]
  },
  {
   "cell_type": "code",
   "execution_count": 40,
   "metadata": {},
   "outputs": [
    {
     "name": "stdout",
     "output_type": "stream",
     "text": [
      "\r",
      "Waiting on bqjob_r7e4d9b990f122d6d_00000168b573e3d3_1 ... (0s) Current status: DONE   "
     ]
    }
   ],
   "source": [
    "# Using Pandas and CSV\n",
    "# What are the five most popular commuter trips?  \n",
    "# We probably want to avoid promotions during the most popular trip times.\n",
    "# Using CSV to Pandas for print formatting for the same query as above\n",
    "\n",
    "! bq query --use_legacy_sql=false --format=csv 'SELECT start_station_name, end_station_name, count(*) as num_trips FROM `bigquery-public-data.san_francisco.bikeshare_trips` WHERE start_station_name <> end_station_name and duration_sec < 1800 and ((EXTRACT(hour from start_date) between 7 and 10) OR (EXTRACT(hour from start_date) between 17 and 20)) AND (EXTRACT (dayofweek from start_date) between 2 and 6) and subscriber_type = \"Subscriber\" and (EXTRACT (dayofweek from start_date) between 2 and 6) GROUP BY start_station_name, end_station_name ORDER BY num_trips desc limit 5' > result.csv\n"
   ]
  },
  {
   "cell_type": "code",
   "execution_count": 41,
   "metadata": {},
   "outputs": [],
   "source": [
    "pop_trips=pd.read_csv('result.csv')"
   ]
  },
  {
   "cell_type": "code",
   "execution_count": 42,
   "metadata": {},
   "outputs": [
    {
     "data": {
      "text/html": [
       "<div>\n",
       "<style scoped>\n",
       "    .dataframe tbody tr th:only-of-type {\n",
       "        vertical-align: middle;\n",
       "    }\n",
       "\n",
       "    .dataframe tbody tr th {\n",
       "        vertical-align: top;\n",
       "    }\n",
       "\n",
       "    .dataframe thead th {\n",
       "        text-align: right;\n",
       "    }\n",
       "</style>\n",
       "<table border=\"1\" class=\"dataframe\">\n",
       "  <thead>\n",
       "    <tr style=\"text-align: right;\">\n",
       "      <th></th>\n",
       "      <th>start_station_name</th>\n",
       "      <th>end_station_name</th>\n",
       "      <th>num_trips</th>\n",
       "    </tr>\n",
       "  </thead>\n",
       "  <tbody>\n",
       "    <tr>\n",
       "      <th>0</th>\n",
       "      <td>San Francisco Caltrain 2 (330 Townsend)</td>\n",
       "      <td>Townsend at 7th</td>\n",
       "      <td>6249</td>\n",
       "    </tr>\n",
       "    <tr>\n",
       "      <th>1</th>\n",
       "      <td>Harry Bridges Plaza (Ferry Building)</td>\n",
       "      <td>2nd at Townsend</td>\n",
       "      <td>5151</td>\n",
       "    </tr>\n",
       "    <tr>\n",
       "      <th>2</th>\n",
       "      <td>Steuart at Market</td>\n",
       "      <td>2nd at Townsend</td>\n",
       "      <td>4736</td>\n",
       "    </tr>\n",
       "    <tr>\n",
       "      <th>3</th>\n",
       "      <td>San Francisco Caltrain (Townsend at 4th)</td>\n",
       "      <td>Harry Bridges Plaza (Ferry Building)</td>\n",
       "      <td>4332</td>\n",
       "    </tr>\n",
       "    <tr>\n",
       "      <th>4</th>\n",
       "      <td>Townsend at 7th</td>\n",
       "      <td>San Francisco Caltrain 2 (330 Townsend)</td>\n",
       "      <td>4191</td>\n",
       "    </tr>\n",
       "  </tbody>\n",
       "</table>\n",
       "</div>"
      ],
      "text/plain": [
       "                         start_station_name  \\\n",
       "0   San Francisco Caltrain 2 (330 Townsend)   \n",
       "1      Harry Bridges Plaza (Ferry Building)   \n",
       "2                         Steuart at Market   \n",
       "3  San Francisco Caltrain (Townsend at 4th)   \n",
       "4                           Townsend at 7th   \n",
       "\n",
       "                          end_station_name  num_trips  \n",
       "0                          Townsend at 7th       6249  \n",
       "1                          2nd at Townsend       5151  \n",
       "2                          2nd at Townsend       4736  \n",
       "3     Harry Bridges Plaza (Ferry Building)       4332  \n",
       "4  San Francisco Caltrain 2 (330 Townsend)       4191  "
      ]
     },
     "execution_count": 42,
     "metadata": {},
     "output_type": "execute_result"
    }
   ],
   "source": [
    "pop_trips"
   ]
  },
  {
   "cell_type": "code",
   "execution_count": 51,
   "metadata": {},
   "outputs": [
    {
     "name": "stdout",
     "output_type": "stream",
     "text": [
      "Waiting on bqjob_r4c52cc6fc919661f_00000168b594d8e2_1 ... (0s) Current status: DONE   \n",
      "+---------------+------------+\n",
      "|   landmark    | Dock_Count |\n",
      "+---------------+------------+\n",
      "| San Francisco |        735 |\n",
      "| San Jose      |        302 |\n",
      "| Mountain View |        117 |\n",
      "| Redwood City  |        115 |\n",
      "| Palo Alto     |         75 |\n",
      "+---------------+------------+\n"
     ]
    }
   ],
   "source": [
    "# How many bikes are there in San Francisco vs. the south bay/penninsula?\n",
    "# This information may be useful for ramping up promotions by region in the future.\n",
    "\n",
    "! bq query --use_legacy_sql=false 'SELECT landmark, sum(dockcount) as Dock_Count FROM `bigquery-public-data.san_francisco.bikeshare_stations` GROUP BY landmark ORDER BY Dock_Count desc'"
   ]
  },
  {
   "cell_type": "markdown",
   "metadata": {},
   "source": [
    "# The Number of Weekend Bike Trips Are Far Lower Than Weekdays Indicating Unused Bicycles "
   ]
  },
  {
   "cell_type": "code",
   "execution_count": 1,
   "metadata": {},
   "outputs": [
    {
     "name": "stdout",
     "output_type": "stream",
     "text": [
      "Waiting on bqjob_r63c094ab3a18215e_00000168c454c30e_1 ... (1s) Current status: DONE   \n",
      "+------------------+-------------+\n",
      "| Num_Weekly_Trips | Day_of_Week |\n",
      "+------------------+-------------+\n",
      "|            290.0 | Sunday      |\n",
      "|            363.0 | Saturday    |\n",
      "|           1104.0 | Friday      |\n",
      "|           1144.0 | Monday      |\n",
      "|           1222.0 | Thursday    |\n",
      "|           1244.0 | Wednesday   |\n",
      "|           1277.0 | Tuesday     |\n",
      "+------------------+-------------+\n"
     ]
    }
   ],
   "source": [
    "! bq query --use_legacy_sql=false 'SELECT round(count(*)/52) as Num_Weekly_Trips, CASE WHEN extract(DAYOFWEEK from start_date) = 1 THEN \"Sunday\" WHEN extract(DAYOFWEEK from start_date) = 2 THEN \"Monday\" WHEN extract(DAYOFWEEK from start_date) = 3 THEN \"Tuesday\" WHEN extract(DAYOFWEEK from start_date) = 4 THEN \"Wednesday\" WHEN extract(DAYOFWEEK from start_date) = 5 THEN \"Thursday\" WHEN extract(DAYOFWEEK from start_date) = 6 THEN \"Friday\" WHEN extract(DAYOFWEEK from start_date) = 7 THEN \"Saturday\" END Day_of_Week FROM `bigquery-public-data.san_francisco.bikeshare_trips`  WHERE date(start_date) = date(end_date) and EXTRACT(YEAR from start_date) = 2015  GROUP BY Day_of_Week ORDER BY Num_Weekly_Trips' "
   ]
  },
  {
   "cell_type": "markdown",
   "metadata": {},
   "source": [
    "# The Economics of Weekend Trips - Subscribers vs. Paid & Trip Duration"
   ]
  },
  {
   "cell_type": "code",
   "execution_count": 3,
   "metadata": {},
   "outputs": [
    {
     "name": "stdout",
     "output_type": "stream",
     "text": [
      "Waiting on bqjob_r2d24227c9b4cca7c_00000168bbb60770_1 ... (1s) Current status: DONE   \n",
      "+-----------------+-------------------+------------------+\n",
      "| subscriber_type | avg_weekend_trips | avg_ride_minutes |\n",
      "+-----------------+-------------------+------------------+\n",
      "| Customer        |             310.0 |             55.0 |\n",
      "| Subscriber      |             343.0 |             10.0 |\n",
      "+-----------------+-------------------+------------------+\n"
     ]
    }
   ],
   "source": [
    "! bq query --use_legacy_sql=false 'SELECT subscriber_type, round(count(*)/52) as avg_weekend_trips, round(avg(duration_sec/60)) as avg_ride_minutes  FROM `bigquery-public-data.san_francisco.bikeshare_trips`  WHERE date(start_date) = date(end_date) and EXTRACT(YEAR from start_date) = 2015 and (extract(DAYOFWEEK from start_date) = 1 or extract(DAYOFWEEK from start_date) = 7) group by subscriber_type'"
   ]
  },
  {
   "cell_type": "markdown",
   "metadata": {},
   "source": [
    "The above query helps us understand that there is under utilized supply of bikes on the weekends. In addition, the\n",
    "majority of weekend trips are by subscribers presenting us with less cannibalization risk in establishing promotions that would reduce revenue from individual full price paid trips."
   ]
  },
  {
   "cell_type": "markdown",
   "metadata": {},
   "source": [
    "# Weekend Promotion Possibilities"
   ]
  },
  {
   "cell_type": "markdown",
   "metadata": {},
   "source": [
    "Weekends are a time when visitors to the bay area and locals alike are interested in leisurly exploring the city without the hurried pace of the work week. Using a bicyle to move about is and interesting and cost effective means of transportation. Research has also shown that weekends are a prime time for catching up on exercise providing an additional incentive to ride. Given weekend trip volumes are approximately 25-30% of weekday trips, Ford Bikes can afford to offer additional free hours of bicycle usage with paid hours which will increase revenue overall while incenting customers to utilize our open weekend bikes.  We propose two promotion ideas through the mobile app.\n",
    "\n",
    "1. For non-subscriber customers who occasionally make use of bikes on day passes or per trip passes, we can offer on weekend days: \"2 hours for \\$5\".  This will allow riders to take a ride to the bridge or ride to breakfast, eat and \n",
    "return home for a flat \\$5 fee which could not have been accomplished with our normal 30 minute trip limit pricing without overage charges. Overages beyond 2 hours are simply charged at the normal \\$3 per 15 minute \n",
    "rate.  \n",
    "\n",
    "To understand cannibalization risk, we recognize from the data above, that the majority of weekend trips (343) are made by subscribers who would pay Ford nothing additional anyway.  On average 310 trips are made on weekend days with an average duration of 55 minutes before bike check in. We don't know how many of these trips were made by day pass buyers who paid \\$10 vs. single riders who would have paid \\$8 for this amount of time. It seems likely, that given how close the average time is to one hour where additional minutes would exceed the cost of a day pass, that most trips are on a day pass. Therefore, we believe that the \\$5 for 2 hour offer will incent new trial ridership without cannibilizing the \\$10 day pass revenue we currently recognize.\n",
    "\n",
    "2. For new customers, we can offer \"Bike it Off\" a way to promote using a bike for exercise on the weekend. This promo has identical terms to \"2 Hours for $5\", but in addition to selling unused capacity, we are attempting to allow customers of this offer to sample what it is like to use our bikes, with the hope that they will become a more regular customer.\n",
    "\n",
    "The mobile app will allow us to distinguish these offers for the two segments of customers.\n",
    "\n",
    "This analysis was based on the most recent year where full year data was available (2015) for a consistent monthly data set over a one year period.\n"
   ]
  },
  {
   "cell_type": "markdown",
   "metadata": {},
   "source": [
    "# Database Schema Information"
   ]
  },
  {
   "cell_type": "markdown",
   "metadata": {},
   "source": [
    "## Database Information\n",
    "### bikeshare_trips\n",
    "| Field name         | Type      | Mode     | Description                                                                                                  |\n",
    "|--------------------|-----------|----------|--------------------------------------------------------------------------------------------------------------|\n",
    "| trip_id            | INTEGER   | REQUIRED | Numeric ID of bike trip                                                                                      |\n",
    "| duration_sec       | INTEGER   | NULLABLE | Time of trip in seconds                                                                                      |\n",
    "| start_date         | TIMESTAMP | NULLABLE | Start date of trip with date and time, in PST                                                                |\n",
    "| start_station_name | STRING    | NULLABLE | Station name of start station                                                                                |\n",
    "| start_station_id   | INTEGER   | NULLABLE | Numeric reference for start station                                                                          |\n",
    "| end_date           | TIMESTAMP | NULLABLE | End date of trip with date and time, in PST                                                                  |\n",
    "| end_station_name   | STRING    | NULLABLE | Station name for end station                                                                                 |\n",
    "| end_station_id     | INTEGER   | NULLABLE | Numeric reference for end station                                                                            |\n",
    "| bike_number        | INTEGER   | NULLABLE | ID of bike used                                                                                              |\n",
    "| zip_code           | STRING    | NULLABLE | Home zip code of subscriber (customers can choose to manually enter zip at kiosk however data is unreliable) |\n",
    "| subscriber_type    | STRING    | NULLABLE | Subscriber = annual or 30-day member; Customer = 24-hour or 3-day member                                     |\n",
    "\n",
    "### bikeshare_status\n",
    "| Field name      | Type      | Mode     | Description               |   |\n",
    "|-----------------|-----------|----------|---------------------------|---|\n",
    "| station_id      | INTEGER   | REQUIRED | Station ID number         |   |\n",
    "| bikes_available | INTEGER   | NULLABLE | Number of available bikes |   |\n",
    "| docks_available | INTEGER   | NULLABLE | Number of available docks |   |\n",
    "| time            | TIMESTAMP | NULLABLE | Date and time, PST        |   |\n",
    "\n",
    "### bikeshare_stations\n",
    "| Field name        | Type    | Mode     | Description                                                                        |   |\n",
    "|-------------------|---------|----------|------------------------------------------------------------------------------------|---|\n",
    "| station_id        | INTEGER | REQUIRED | Station ID number                                                                  |   |\n",
    "| name              | STRING  | NULLABLE | Name of station                                                                    |   |\n",
    "| latitude          | FLOAT   | NULLABLE | Latitude                                                                           |   |\n",
    "| longitude         | FLOAT   | NULLABLE | Longitude                                                                          |   |\n",
    "| dockcount         | INTEGER | NULLABLE | Number of total docks at station                                                   |   |\n",
    "| landmark          | STRING  | NULLABLE | City (San Francisco, Redwood City, Palo Alto, Mountain View, San Jose)             |   |\n",
    "| installation_date | DATE    | NULLABLE | Original date that station was installed. If station was moved, it is noted below. |   |"
   ]
  },
  {
   "cell_type": "code",
   "execution_count": null,
   "metadata": {},
   "outputs": [],
   "source": []
  }
 ],
 "metadata": {
  "kernelspec": {
   "display_name": "Python 3",
   "language": "python",
   "name": "python3"
  },
  "language_info": {
   "codemirror_mode": {
    "name": "ipython",
    "version": 3
   },
   "file_extension": ".py",
   "mimetype": "text/x-python",
   "name": "python",
   "nbconvert_exporter": "python",
   "pygments_lexer": "ipython3",
   "version": "3.7.1"
  }
 },
 "nbformat": 4,
 "nbformat_minor": 2
}
