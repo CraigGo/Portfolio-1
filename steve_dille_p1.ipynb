{
 "cells": [
  {
   "cell_type": "markdown",
   "metadata": {},
   "source": [
    "# Project 1: Digit Classification with KNN and Naive Bayes"
   ]
  },
  {
   "cell_type": "markdown",
   "metadata": {},
   "source": [
    "In this project, you'll implement your own image recognition system for classifying digits. Read through the code and the instructions carefully and add your own code where indicated. Each problem can be addressed succinctly with the included packages -- please don't add any more. Grading will be based on writing clean, commented code, along with a few short answers.\n",
    "\n",
    "As always, you're welcome to work on the project in groups and discuss ideas on the course wall, but <b> please prepare your own write-up (with your own code). </b>\n",
    "\n",
    "If you're interested, check out these links related to digit recognition:\n",
    "\n",
    "Yann Lecun's MNIST benchmarks: http://yann.lecun.com/exdb/mnist/\n",
    "\n",
    "Stanford Streetview research and data: http://ufldl.stanford.edu/housenumbers/"
   ]
  },
  {
   "cell_type": "code",
   "execution_count": 28,
   "metadata": {},
   "outputs": [
    {
     "name": "stdout",
     "output_type": "stream",
     "text": [
      "3.7.1\n"
     ]
    }
   ],
   "source": [
    "from platform import python_version\n",
    "print(python_version())"
   ]
  },
  {
   "cell_type": "code",
   "execution_count": 29,
   "metadata": {},
   "outputs": [],
   "source": [
    "# This tells matplotlib not to try opening a new window for each plot.\n",
    "%matplotlib inline\n",
    "\n",
    "# Import a bunch of libraries.\n",
    "import time\n",
    "import numpy as np\n",
    "import matplotlib.pyplot as plt\n",
    "from matplotlib.ticker import MultipleLocator\n",
    "from sklearn.pipeline import Pipeline\n",
    "#from sklearn.datasets import fetch_mldata\n",
    "from sklearn.datasets import fetch_openml\n",
    "from sklearn.neighbors import KNeighborsClassifier\n",
    "from sklearn.metrics import confusion_matrix\n",
    "from sklearn.linear_model import LinearRegression\n",
    "from sklearn.naive_bayes import BernoulliNB\n",
    "from sklearn.naive_bayes import MultinomialNB\n",
    "from sklearn.naive_bayes import GaussianNB\n",
    "from sklearn.model_selection import GridSearchCV\n",
    "from sklearn.metrics import classification_report\n",
    "\n",
    "\n",
    "# Set the randomizer seed so results are the same each time.\n",
    "np.random.seed(0)"
   ]
  },
  {
   "cell_type": "markdown",
   "metadata": {},
   "source": [
    "Load the data. Notice that we are splitting the data into training, development, and test. We also have a small subset of the training data called mini_train_data and mini_train_labels that you should use in all the experiments below, unless otherwise noted."
   ]
  },
  {
   "cell_type": "code",
   "execution_count": 30,
   "metadata": {},
   "outputs": [
    {
     "name": "stdout",
     "output_type": "stream",
     "text": [
      "data shape:  (70000, 784)\n",
      "label shape: (70000,)\n"
     ]
    }
   ],
   "source": [
    "# Load the digit data either from mldata.org, or once downloaded to data_home, from disk. The data is about 53MB so this cell\n",
    "# should take a while the first time your run it.\n",
    "\n",
    "X, Y = fetch_openml('mnist_784', return_X_y=True , cache=False)\n",
    "Y = Y.astype(int)\n",
    "\n",
    "# Rescale grayscale values to [0,1].\n",
    "X = X / 255.0\n",
    "\n",
    "# Shuffle the input: create a random permutation of the integers between 0 and the number of data points and apply this\n",
    "# permutation to X and Y.\n",
    "# NOTE: Each time you run this cell, you'll re-shuffle the data, resulting in a different ordering.\n",
    "shuffle = np.random.permutation(np.arange(X.shape[0]))\n",
    "X, Y = X[shuffle], Y[shuffle]\n",
    "\n",
    "print ('data shape: ', X.shape)\n",
    "print ('label shape:', Y.shape)\n",
    "\n",
    "# Set some variables to hold test, dev, and training data.\n",
    "test_data, test_labels = X[61000:], Y[61000:]\n",
    "dev_data, dev_labels = X[60000:61000], Y[60000:61000]\n",
    "train_data, train_labels = X[:60000], Y[:60000]\n",
    "mini_train_data, mini_train_labels = X[:1000], Y[:1000]"
   ]
  },
  {
   "cell_type": "markdown",
   "metadata": {},
   "source": [
    "(1) Create a 10x10 grid to visualize 10 examples of each digit. Python hints:\n",
    "\n",
    "- plt.rc() for setting the colormap, for example to black and white\n",
    "- plt.subplot() for creating subplots\n",
    "- plt.imshow() for rendering a matrix\n",
    "- np.array.reshape() for reshaping a 1D feature vector into a 2D matrix (for rendering)"
   ]
  },
  {
   "cell_type": "code",
   "execution_count": 33,
   "metadata": {},
   "outputs": [
    {
     "data": {
      "image/png": "[encoded data removed]",
      "text/plain": [
       "<Figure size 432x288 with 100 Axes>"
      ]
     },
     "metadata": {
      "needs_background": "light"
     },
     "output_type": "display_data"
    }
   ],
   "source": [
    "def P1(num_examples=10):\n",
    "\n",
    "    # Function to take a parameter of n = number of example images to print from MINST dataset and then\n",
    "    # print an n x n matrix of sample images.\n",
    "      \n",
    "    column = num_examples\n",
    "    row = num_examples\n",
    "    image_count = 0\n",
    "    \n",
    "    # loop for the rows.  current_digit is the current image being printed from 0 to num_examples\n",
    "    for current_digit in range (row):                       \n",
    "        k = 0\n",
    "        \n",
    "     # loop for the columns to print per row. Keep reading until you find current_digit then print.   \n",
    "        for i in range (column):                               \n",
    "            while mini_train_labels[k] != current_digit:   \n",
    "                k += 1                                         \n",
    "            else:\n",
    "                image = mini_train_data[k].reshape(28, 28) \n",
    "                plt.subplot(row, column, image_count+1)    \n",
    "                plt.imshow(image, cmap='gray')             \n",
    "                plt.axis('off')                            \n",
    "                image_count += 1\n",
    "                k += 1 \n",
    "\n",
    "    plt.show()\n",
    "\n",
    "### MAIN ###\n",
    "\n",
    "P1(10)"
   ]
  },
  {
   "cell_type": "markdown",
   "metadata": {},
   "source": [
    "(2) Evaluate a K-Nearest-Neighbors model with k = [1,3,5,7,9] using the mini training set. Report accuracy on the dev set. For k=1, show precision, recall, and F1 for each label. Which is the most difficult digit?\n",
    "\n",
    "- KNeighborsClassifier() for fitting and predicting\n",
    "- classification_report() for producing precision, recall, F1 results"
   ]
  },
  {
   "cell_type": "code",
   "execution_count": 10,
   "metadata": {
    "scrolled": true
   },
   "outputs": [
    {
     "name": "stdout",
     "output_type": "stream",
     "text": [
      "Development Data Set Accuracy for Varying Levels of k\n",
      "\n",
      "Accuracy with k = 1 is 0.884\n",
      "Accuracy with k = 3 is 0.876\n",
      "Accuracy with k = 5 is 0.882\n",
      "Accuracy with k = 7 is 0.877\n",
      "Accuracy with k = 9 is 0.875\n",
      "\n",
      "Classification Report with k=1\n",
      "              precision    recall  f1-score   support\n",
      "\n",
      "           0       0.95      0.95      0.95       106\n",
      "           1       0.89      0.98      0.93       118\n",
      "           2       0.90      0.79      0.84       106\n",
      "           3       0.93      0.87      0.90        97\n",
      "           4       0.91      0.85      0.88        92\n",
      "           5       0.86      0.88      0.87        88\n",
      "           6       0.92      0.92      0.92       102\n",
      "           7       0.85      0.94      0.89       102\n",
      "           8       0.83      0.77      0.80        94\n",
      "           9       0.80      0.86      0.83        95\n",
      "\n",
      "   micro avg       0.88      0.88      0.88      1000\n",
      "   macro avg       0.88      0.88      0.88      1000\n",
      "weighted avg       0.89      0.88      0.88      1000\n",
      "\n"
     ]
    }
   ],
   "source": [
    "def P2(k_values):\n",
    "\n",
    "# Function to train a KNN Classifier on mini-training data set and report accuracy on a dev data set \n",
    "# for a parameter of k_values passed into P2 (k=1,3,5,7,9 in this case). Print a classification report for K=1\n",
    "    k=1\n",
    "    print (\"Development Data Set Accuracy for Varying Levels of k\")\n",
    "    print()\n",
    "    \n",
    "    # For each K value, set K, fit the model and score the model (using dev_data_)\n",
    "    for k in k_values:\n",
    "        classifier = KNeighborsClassifier(n_neighbors=k)                               \n",
    "        classifier.fit(mini_train_data, mini_train_labels)                             \n",
    "        print (\"Accuracy with k =\",k, \"is\", classifier.score(dev_data, dev_labels)) \n",
    "\n",
    "    # Print a classificaion report for K=1 with dev_data    \n",
    "    k=1\n",
    "    classifier = KNeighborsClassifier(n_neighbors=k)                                   \n",
    "    classifier.fit(mini_train_data, mini_train_labels)                                 \n",
    "    y_pred = classifier.predict(dev_data)                                           \n",
    "    print()\n",
    "    print (\"Classification Report with k=1\")\n",
    "    print(classification_report(dev_labels, y_pred))                                   \n",
    "\n",
    "    \n",
    "### MAIN ###\n",
    "\n",
    "k_values = [1, 3, 5, 7, 9]\n",
    "P2(k_values)"
   ]
  },
  {
   "cell_type": "markdown",
   "metadata": {},
   "source": [
    "ANSWER:With K = 1 the most difficult digit to classify is 8.  The f-1 score is the lowest for 8.  83% of the time, the classifier is not labeling digits as an 8 which are not an 8 (precision).  Only 77% of the time, it is correctly classifying the digit 8 as an 8 from the data set (recall).  With digit 9, I do note that the precision is the lowest of any digit, but the recall is much higher than the digit 8, so overall it performs better.  "
   ]
  },
  {
   "cell_type": "markdown",
   "metadata": {},
   "source": [
    "(3) Using k=1, report dev set accuracy for the training set sizes below. Also, measure the amount of time needed for prediction with each training size.\n",
    "\n",
    "- time.time() gives a wall clock value you can use for timing operations"
   ]
  },
  {
   "cell_type": "code",
   "execution_count": 11,
   "metadata": {},
   "outputs": [
    {
     "name": "stdout",
     "output_type": "stream",
     "text": [
      "Training Set Size    Accuracy    Prediction Time (seconds)\n",
      "       100            0.702           0.13068414\n",
      "       200            0.791           0.24951720\n",
      "       400            0.811           0.49939013\n",
      "       800            0.866           1.10038185\n",
      "      1600            0.905           2.09145093\n",
      "      3200            0.927           4.25234294\n",
      "      6400            0.939           8.64120197\n",
      "     12800            0.952          16.05651999\n",
      "     25000            0.962          32.44500709\n"
     ]
    }
   ],
   "source": [
    "def P3(train_sizes, accuracies):\n",
    "\n",
    "# Function to measure prediction accuracy and prediction time at various training sizes.\n",
    "# Accepts the training_sizes and accumulates a list of accuracies to be used later.  \n",
    "\n",
    "    k=1\n",
    "    print(\"Training Set Size   \", \"Accuracy   \", \"Prediction Time (seconds)\")\n",
    "    for i in train_sizes:\n",
    "        classifier = KNeighborsClassifier(n_neighbors=k)                               \n",
    "        classifier.fit(train_data[0:i], train_labels[0:i])\n",
    "        start_time = time.time() \n",
    "        y_pred = classifier.predict(dev_data) \n",
    "        end_time = time.time()\n",
    "        score = classifier.score(dev_data, dev_labels)\n",
    "        print('{:10} {:16.3f} {:20.8f}'.format(i, score, end_time - start_time))\n",
    "        accuracies.append(score)\n",
    "\n",
    "    return\n",
    "\n",
    "### MAIN ###\n",
    "\n",
    "train_sizes = [100, 200, 400, 800, 1600, 3200, 6400, 12800, 25000]\n",
    "accuracies = []\n",
    "P3(train_sizes, accuracies)\n"
   ]
  },
  {
   "cell_type": "markdown",
   "metadata": {},
   "source": [
    "The above report is self-explanatory.  The accuracy increases as we have more data to train on as expected.  The prediction time is increasing with data size in most cases close to linearly.  "
   ]
  },
  {
   "cell_type": "markdown",
   "metadata": {},
   "source": [
    "(4) Fit a regression model that predicts accuracy from training size. What does it predict for n=60000? What's wrong with using regression here? Can you apply a transformation that makes the predictions more reasonable?\n",
    "\n",
    "- Remember that the sklearn fit() functions take an input matrix X and output vector Y. So each input example in X is a vector, even if it contains only a single value."
   ]
  },
  {
   "cell_type": "code",
   "execution_count": 22,
   "metadata": {
    "scrolled": true
   },
   "outputs": [
    {
     "name": "stdout",
     "output_type": "stream",
     "text": [
      "The regression score (R2) of a linear model that predicts accuracy from training size is 0.42.\n",
      "For training size=60000, the predicted accuracy of this model is 124%.\n",
      "\n",
      "The R2 of a linear model that predicts accuracy from log of training size is: 0.91.\n",
      "For training size=60000, the predicted accuracy of this model is 103%.\n"
     ]
    }
   ],
   "source": [
    "def P4():\n",
    "\n",
    "# Linear regression function to predict the accuracy of a KNN classifier from training data size.\n",
    "# train_sizes and accuracies computed in the prior cells\n",
    "\n",
    "    # Make X a vector for linear regression method\n",
    "    train_sizes_np = []\n",
    "    for i in range (0, len(train_sizes)):\n",
    "        train_sizes_np.append([train_sizes[i]])\n",
    "\n",
    "    X = np.array(train_sizes_np)\n",
    "    y = np.array(accuracies)\n",
    "    reg = LinearRegression().fit(X, y)\n",
    "\n",
    "    print(\"The regression score (R2) of a linear model that predicts accuracy from training size is {:.2f}.\".format(reg.score(X, y)))\n",
    "    print(\"For training size=60000, the predicted accuracy of this model is {:.0f}%.\".format(reg.predict(np.array([[60000]]))[0]*100))\n",
    "\n",
    "    # Transform the model to predict on the log of the training data size and accuracies\n",
    "    reg.fit(np.log(X), y)\n",
    "    print()\n",
    "    print(\"The R2 of a linear model that predicts accuracy from log of training size is: {:.2f}.\".format(reg.score(np.log(X), y)))\n",
    "    print(\"For training size=60000, the predicted accuracy of this model is {:.0f}%.\".format(reg.predict(np.array([[np.log(60000)]]))[0]*100))\n",
    "    \n",
    "\n",
    "### MAIN ###\n",
    "\n",
    "P4()"
   ]
  },
  {
   "cell_type": "markdown",
   "metadata": {},
   "source": [
    "ANSWER: The linear regression model does not work very well for predicting accuracy with an R2 of .42 and accuracy of 124%.  This is due to the fact that the relationship between sample size and accuracy is not linear.  This is shown in the first graph below.  The model can be made more predictive by transforming the independent variable with a log function.  This compacts the data more and gives us a much closer fit as can be seen from the R2 of .91 and accuracy score of 103%.  "
   ]
  },
  {
   "cell_type": "code",
   "execution_count": 38,
   "metadata": {},
   "outputs": [
    {
     "data": {
      "image/png": "[encoded data removed]",
      "text/plain": [
       "<Figure size 432x288 with 1 Axes>"
      ]
     },
     "metadata": {
      "needs_background": "light"
     },
     "output_type": "display_data"
    },
    {
     "data": {
      "image/png": "[encoded data removed]",
      "text/plain": [
       "<Figure size 432x288 with 1 Axes>"
      ]
     },
     "metadata": {
      "needs_background": "light"
     },
     "output_type": "display_data"
    }
   ],
   "source": [
    "# Plot the original data\n",
    "plt.title(\"Accuracy by Training Data Size\")\n",
    "plt.plot(train_sizes, accuracies, 'ro')\n",
    "plt.show()\n",
    "\n",
    "# Plot the log data\n",
    "plt.title(\"Accuracy by Log(Training Data Size)\")\n",
    "plt.plot(np.log(train_sizes), accuracies, 'ro')\n",
    "plt.show()\n"
   ]
  },
  {
   "cell_type": "markdown",
   "metadata": {},
   "source": [
    "I also tried other techniques to improve the accuracy of the regression but none worked.  In particular, I tried log odds and logisitic regression techniques as shown below in these tests."
   ]
  },
  {
   "cell_type": "code",
   "execution_count": 51,
   "metadata": {},
   "outputs": [
    {
     "name": "stdout",
     "output_type": "stream",
     "text": [
      "X and Y Axis Values for Test Training Size Differences and Accuracies\n",
      "[[100], [100], [200], [400], [800], [1600], [3200], [6400], [12200]]\n",
      "[0.702, 0.791, 0.811, 0.866, 0.905, 0.927, 0.939, 0.952, 0.962]\n",
      "\n",
      "The regression score (R2) of a linear model that predicts accuracy from training size X axis differences is 0.42.\n",
      "For training size=60000, the accuracy of this model is 168%.\n",
      "\n",
      "X and Y Axis Values for Test Training Sizes and Accuracy Differences\n",
      "[[100], [200], [400], [800], [1600], [3200], [6400], [12800], [25000]]\n",
      "[0.702, 0.08900000000000008, 0.020000000000000018, 0.05499999999999994, 0.039000000000000035, 0.02200000000000002, 0.0119999999999999, 0.013000000000000012, 0.010000000000000009]\n",
      "\n",
      "The regression (R2) of a linear model that predicts accuracy from training size with Y axis differences is 0.09.\n",
      "For training size=60000, the accuracy of this model is -34%.\n",
      "\n",
      "X and Y Axis Values for Test Training Sizes and Accuracy/(1-Accuracy)\n",
      "[[100], [200], [400], [800], [1600], [3200], [6400], [12800], [25000]]\n",
      "[0.8568399175204064, 1.3309637158028431, 1.456521039055771, 1.8660451086115237, 2.2540580520993854, 2.541494124417465, 2.7339416150349507, 2.9873640238834733, 3.23142829093932]\n",
      "\n",
      "The regression score (R2) of a linear model that predicts accuracy from training size is 0.61.\n",
      "For training size=60000, the accuracy of this model is 628%.\n"
     ]
    }
   ],
   "source": [
    "def p4test():\n",
    "# Make X a vector for linear regression method  \n",
    "    \n",
    "    # I tried using the distance between the X axis points instead of the raw value to predict accuracy\n",
    "    accuracies_np = accuracies\n",
    "    train_sizes_np = [[train_sizes[0]]]\n",
    "    for i in range (1, len(train_sizes)):\n",
    "        train_sizes_np.append([train_sizes[i] - train_sizes[i-1]])\n",
    "    \n",
    "    # print values\n",
    "    print (\"X and Y Axis Values for Test Training Size Differences and Accuracies\")\n",
    "    print(train_sizes_np)\n",
    "    print(accuracies_np)\n",
    "    print()\n",
    "\n",
    "    X = np.array(train_sizes_np)\n",
    "    y = np.array(accuracies_np)\n",
    "    reg = LinearRegression().fit(X, y)\n",
    "\n",
    "    print(\"The regression score (R2) of a linear model that predicts accuracy from training size X axis differences is {:.2f}.\".format(reg.score(X, y)))\n",
    "    print(\"For training size=60000, the accuracy of this model is {:.0f}%.\".format(reg.predict(np.array([[60000]]))[0]*100))\n",
    "    print()\n",
    " \n",
    "\n",
    "    # I tried using the distance between the X axis points instead of the raw value to predict accuracy  \n",
    "    train_sizes_np = []\n",
    "    for i in range (0, len(train_sizes)):\n",
    "        train_sizes_np.append([train_sizes[i]])\n",
    "        \n",
    "    accuracies_np = [accuracies[0]]\n",
    "    for i in range (1, len(accuracies)):\n",
    "        accuracies_np.append(accuracies[i] - accuracies[i-1]) \n",
    "\n",
    "    # print values\n",
    "    print (\"X and Y Axis Values for Test Training Sizes and Accuracy Differences\")\n",
    "    print(train_sizes_np)\n",
    "    print(accuracies_np)\n",
    "    print()\n",
    "\n",
    "    X = np.array(train_sizes_np)\n",
    "    y = np.array(accuracies_np)\n",
    "    reg = LinearRegression().fit(X, y)\n",
    "\n",
    "    print(\"The regression (R2) of a linear model that predicts accuracy from training size with Y axis differences is {:.2f}.\".format(reg.score(X, y)))\n",
    "    print(\"For training size=60000, the accuracy of this model is {:.0f}%.\".format(reg.predict(np.array([[60000]]))[0]*100))\n",
    "    print()    \n",
    "\n",
    "    \n",
    "    # I tried using the log of the predicted accuracy over (1 - predicted accuracy) instead of the raw value to predict accuracy  \n",
    "    accuracies_np = []\n",
    "    for i in range (0, len(accuracies)):\n",
    "        accuracies_np.append(np.log((accuracies[i]/(1-accuracies[i])))) \n",
    "        \n",
    "    # print values\n",
    "    print (\"X and Y Axis Values for Test Training Sizes and Accuracy/(1-Accuracy)\")\n",
    "    print(train_sizes_np)\n",
    "    print(accuracies_np)\n",
    "    print()\n",
    "    \n",
    "    X = np.array(train_sizes_np)\n",
    "    y = np.array(accuracies_np)\n",
    "    reg = LinearRegression().fit(X, y)\n",
    "\n",
    "    print(\"The regression score (R2) of a linear model that predicts accuracy from training size is {:.2f}.\".format(reg.score(X, y)))\n",
    "    print(\"For training size=60000, the accuracy of this model is {:.0f}%.\".format(reg.predict(np.array([[60000]]))[0]*100))\n",
    "\n",
    "p4test()"
   ]
  },
  {
   "cell_type": "markdown",
   "metadata": {},
   "source": [
    "(5) Fit a 1-NN and output a confusion matrix for the dev data. Use the confusion matrix to identify the most confused pair of digits, and display a few example mistakes.\n",
    "\n",
    "- confusion_matrix() produces a confusion matrix"
   ]
  },
  {
   "cell_type": "code",
   "execution_count": 57,
   "metadata": {
    "scrolled": false
   },
   "outputs": [
    {
     "name": "stdout",
     "output_type": "stream",
     "text": [
      "\n",
      "CONFUSION MATRIX FOR 1-NN MODEL RUN WITH DEVELOPMENT DATASET\n",
      "\n",
      "[[101   0   1   0   0   0   1   1   2   0]\n",
      " [  0 116   1   0   0   0   0   0   1   0]\n",
      " [  1   4  84   2   2   0   2   4   6   1]\n",
      " [  0   2   0  84   0   6   0   2   3   0]\n",
      " [  0   0   1   0  78   0   0   2   0  11]\n",
      " [  2   0   0   1   1  77   5   0   2   0]\n",
      " [  1   2   1   0   1   2  94   0   1   0]\n",
      " [  0   1   1   0   0   0   0  96   0   4]\n",
      " [  1   5   4   3   1   3   0   1  72   4]\n",
      " [  0   1   0   0   3   2   0   7   0  82]]\n",
      "\n",
      "Here are three example 4 digits that were classified as the digit 9:\n"
     ]
    },
    {
     "data": {
      "image/png": "[encoded data removed]",
      "text/plain": [
       "<Figure size 432x288 with 3 Axes>"
      ]
     },
     "metadata": {
      "needs_background": "light"
     },
     "output_type": "display_data"
    },
    {
     "name": "stdout",
     "output_type": "stream",
     "text": [
      "\n",
      "Here are three example 9 digits that were classified as the digit 4:\n"
     ]
    },
    {
     "data": {
      "image/png": "[encoded data removed]",
      "text/plain": [
       "<Figure size 432x288 with 3 Axes>"
      ]
     },
     "metadata": {
      "needs_background": "light"
     },
     "output_type": "display_data"
    }
   ],
   "source": [
    "def P5():\n",
    "\n",
    "    #Function to create a confusion matrix of digits from our dev data, ID the most confused digits and print 3 examples.\n",
    "\n",
    "    # Fit a 1-NN model\n",
    "    k=1\n",
    "    classifier = KNeighborsClassifier(n_neighbors=k)                            \n",
    "    classifier.fit(mini_train_data, mini_train_labels)                            \n",
    "    y_pred = classifier.predict(dev_data)                                           \n",
    "\n",
    "    # Output a confusion matrix for the dev_data\n",
    "    print ()\n",
    "    print (\"CONFUSION MATRIX FOR 1-NN MODEL RUN WITH DEVELOPMENT DATASET\")\n",
    "    print ()\n",
    "    print (confusion_matrix(dev_labels, y_pred, labels=[0,1,2,3,4,5,6,7,8,9,]))     \n",
    "    print()\n",
    "\n",
    "    # We can see from the confusion matrix that 4s are being misclassified as 9s most commonly.\n",
    "    # Capture the list of confused 4s\n",
    "    list_of_confused_4 = []\n",
    "    for i in range (0, len(dev_labels)):                                            \n",
    "        if dev_labels[i] == 4 and y_pred [i] == 9:\n",
    "            list_of_confused_4.append(i)\n",
    "\n",
    "    # Print 3 examples of confused digits        \n",
    "    print (\"Here are three example 4 digits that were classified as the digit 9:\")\n",
    "\n",
    "    for i in range (3):                                                            \n",
    "        image = dev_data[list_of_confused_4[i]].reshape(28, 28)                  \n",
    "        plt.subplot(1, 3, i+1)                                              \n",
    "        plt.imshow(image, cmap='gray')                                            \n",
    "        plt.axis('off')                                                            \n",
    "    \n",
    "    plt.show()\n",
    "    \n",
    "    # Let's also look at the corresponding 9 digits confused as 4s\n",
    "    list_of_confused_9 = []\n",
    "    for i in range (0, len(dev_labels)):                                           \n",
    "        if dev_labels[i] == 9 and y_pred [i] == 4:\n",
    "            list_of_confused_9.append(i)\n",
    "\n",
    "    # Print 3 examples of confused digits\n",
    "    print()\n",
    "    print (\"Here are three example 9 digits that were classified as the digit 4:\")\n",
    "\n",
    "    for i in range (3):                                                            \n",
    "        image = dev_data[list_of_confused_9[i]].reshape(28, 28)                    \n",
    "        plt.subplot(1, 3, i+1)                                                     \n",
    "        plt.imshow(image, cmap='gray')                                             \n",
    "        plt.axis('off')                                                            \n",
    "    \n",
    "    plt.show()\n",
    "\n",
    "### MAIN ###\n",
    "\n",
    "P5()"
   ]
  },
  {
   "cell_type": "markdown",
   "metadata": {},
   "source": [
    "According to the confusion matrix, the most confused pair of digits are 4 and 9. 4 is confused for the digit 9 eleven times and 9 is confused for the digit 4 three times for a total of 14 inaccurate predictions on these digits.  \n",
    "\n"
   ]
  },
  {
   "cell_type": "markdown",
   "metadata": {},
   "source": [
    "(6) A common image processing technique is to smooth an image by blurring. The idea is that the value of a particular pixel is estimated as the weighted combination of the original value and the values around it. Typically, the blurring is Gaussian -- that is, the weight of a pixel's influence is determined by a Gaussian function over the distance to the relevant pixel.\n",
    "\n",
    "Implement a simplified Gaussian blur by just using the 8 neighboring pixels: the smoothed value of a pixel is a weighted combination of the original value and the 8 neighboring values. Try applying your blur filter in 3 ways:\n",
    "- preprocess the training data but not the dev data\n",
    "- preprocess the dev data but not the training data\n",
    "- preprocess both training and dev data\n",
    "\n",
    "Note that there are Guassian blur filters available, for example in scipy.ndimage.filters. You're welcome to experiment with those, but you are likely to get the best results with the simplified version I described above."
   ]
  },
  {
   "cell_type": "code",
   "execution_count": 52,
   "metadata": {},
   "outputs": [
    {
     "name": "stdout",
     "output_type": "stream",
     "text": [
      "KNN classifier with original data\n",
      "Accuracy with k = 1 is 0.884\n",
      "\n",
      "KNN classifier with blurred dev data only\n",
      "Accuracy with k = 1 is 0.868\n",
      "\n",
      "KNN classifier with blurred training data only\n",
      "Accuracy with k = 1 is 0.908\n",
      "\n",
      "KNN classifier with blurred training and dev data\n",
      "Accuracy with k = 1 is 0.904\n"
     ]
    }
   ],
   "source": [
    "def knn_classifier (k, train_data, train_labels, test_data, test_labels):\n",
    "\n",
    "    # KNN classifer function that accepts k, the training data and labels and test data and labels and prints accuracy.\n",
    "    \n",
    "    classifier = KNeighborsClassifier(n_neighbors=k)                                   \n",
    "    classifier.fit(train_data, train_labels)                                           \n",
    "    print (\"Accuracy with k =\",k, \"is\", classifier.score(test_data, test_labels))        \n",
    "    return\n",
    "\n",
    "def blur_function (row, data_set):                             \n",
    "\n",
    "    # This is a function to blur an image by averaging the surround pixels. It accepts the dataset we will blur as a parameter and the current\n",
    "    # row of the image we are processing from the file (0-999).  We reshape that 784 pixel row in this function to 28x28 and average pixel weights.\n",
    "    # The function returns a row in the original format of 784 pixels per row.\n",
    "    \n",
    "    # Performance note - I wrote this function to be intuitive and easy to understand with simple ifs doing special case averaging\n",
    "    # where we do not have 8 surrounding pixels to average.  After dealing with special cases, we drop into the most common case for rows\n",
    "    # 1-26 and columns 1-26.  Since our data sizes are small, this works just fine.  However, if we wanted to increase data size\n",
    "    # a simple fix to eliminate running so many conditional ifs is to move the last averaging line to the beginning and place it under\n",
    "    # an if to determine you are not in a special case situation which is the case 90% of the time.  It will eliminate much processing but is\n",
    "    # to me not quite as intuitive.  \n",
    "    \n",
    "    dataset_28 = data_set.reshape(1000,28,28)\n",
    "    data_row = np.empty_like (dataset_28[row]) \n",
    "\n",
    "    # i is the row number and j is the column in a 28x28 matrix\n",
    "    for i in range (0, 28):\n",
    "        for j in range (0,28):\n",
    "  \n",
    "            # These first 3 ifs deal with averaging the special cases of the first row and the two corners in the first row\n",
    "            if i == 0 and j == 0:\n",
    "                data_row[i,j] = (dataset_28[row,i,j] + dataset_28[row,i,j+1] + dataset_28[row,i+1,j] + dataset_28[row,i+1,j+1])/4\n",
    "                continue\n",
    "            if i == 0 and j == 27:\n",
    "                data_row[i,j] = (dataset_28[row,i,j] + dataset_28[row,i,j-1] + dataset_28[row,i+1,j] + dataset_28[row,i+1,j-1])/4\n",
    "                continue\n",
    "            if i == 0:\n",
    "                data_row[i,j] = (dataset_28[row,i,j] + dataset_28[row,i,j-1] + dataset_28[row,i,j+1] + dataset_28[row,i+1,j] + dataset_28[row,i+1,j-1] + dataset_28[row,i+1,j+1])/6\n",
    "                continue\n",
    "\n",
    "            # These second 3 ifs deal with averaging the special cases of the last row and the two corners in the last row   \n",
    "            if i == 27 and j == 0:\n",
    "                data_row[i,j] = (dataset_28[row,i,j] + dataset_28[row,i,j+1] + dataset_28[row,i-1,j] + dataset_28[row,i-1,j+1])/4\n",
    "                continue\n",
    "            if i == 27 and j == 27:\n",
    "                data_row[i,j] = (dataset_28[row,i,j] + dataset_28[row,i,j-1] + dataset_28[row,i-1,j] + dataset_28[row,i-1,j-1])/4\n",
    "                continue\n",
    "            if i == 27:\n",
    "                data_row[i,j] = (dataset_28[row,i,j] + dataset_28[row,i,j-1] + dataset_28[row,i,j+1] + dataset_28[row,i-1,j] + dataset_28[row,i-1,j-1] + dataset_28[row,i-1,j+1])/6\n",
    "                continue\n",
    "\n",
    "            # These 2 ifs deal with averaging the special cases of the non-corners of the first column and the last column  \n",
    "            if j == 0:\n",
    "                data_row[i,j] = (dataset_28[row,i,j] + dataset_28[row,i-1,j] + dataset_28[row,i-1,j+1] + dataset_28[row,i,j+1] + dataset_28[row,i+1,j+1] + dataset_28[row,i+1,j])/6\n",
    "                continue\n",
    "            if j == 27:\n",
    "                data_row[i,j] = (dataset_28[row,i,j] + dataset_28[row,i-1,j] + dataset_28[row,i-1,j-1] + dataset_28[row,i,j-1] + dataset_28[row,i+1,j-1] + dataset_28[row,i+1,j])/6\n",
    "                continue\n",
    "\n",
    "            # For everything else in the middle of the matrix, we average the 8 surrounding pixels, the target pixel and divide by 9\n",
    "            data_row[i,j] = (dataset_28[row,i,j] + dataset_28[row,i-1,j] + dataset_28[row,i-1,j-1] + dataset_28[row,i-1,j+1] + dataset_28[row,i,j-1] + dataset_28[row,i,j+1] + dataset_28[row,i+1,j] + dataset_28[row,i+1,j-1] + dataset_28[row,i+1,j+1])/9\n",
    "\n",
    "    return data_row.reshape(784)\n",
    "\n",
    "                                  \n",
    "                                  \n",
    "def gaussian_blur (num_rows, num_cols, data_set):\n",
    "    \n",
    "    ### Function accepts a data set of images and returns a blurred version of the data set.  parameters are the data set,\n",
    "    ### number of rows and number of columns.\n",
    "    \n",
    "    blur_data = np.empty_like (data_set)       # define a new blur_data numpy array and copy the given data set\n",
    "    blur_data[:] = data_set\n",
    "    for row in range (0, num_rows):         # Process the number of rows given in the data set\n",
    "        blur_data[row] = blur_function (row, data_set)  # send in the row and the full data set for surrounding rows\n",
    "                                                                    \n",
    "    return blur_data\n",
    "\n",
    "\n",
    "### MAIN\n",
    "\n",
    "# This program smooths an image by blurring to improve model predictive accuracy. The value of a particular pixel\n",
    "# is estimated as the weighted combination of the original value and the values around it above, below, left and right.  \n",
    "# The program reports accuracy improvements for blurring dev data only, training data only and both dev and training data.\n",
    "\n",
    "rows = 1000\n",
    "columns = 784\n",
    "k=1\n",
    "\n",
    "# Run the KNN classifer and report accuracy on the original unblurred data\n",
    "\n",
    "print(\"KNN classifier with original data\")\n",
    "knn_classifier (k, mini_train_data, mini_train_labels, dev_data, dev_labels)\n",
    "\n",
    "# Run the KNN classifier on blurred development data only \n",
    "\n",
    "print()\n",
    "print(\"KNN classifier with blurred dev data only\")\n",
    "blur_dev = np.empty_like (dev_data)\n",
    "blur_dev = gaussian_blur (rows, columns, dev_data)\n",
    "\n",
    "knn_classifier (k, mini_train_data, mini_train_labels, blur_dev, dev_labels)\n",
    "\n",
    "# Run the KNN classifier on blurred training data only\n",
    "print()\n",
    "print(\"KNN classifier with blurred training data only\")\n",
    "\n",
    "blur_train = np.empty_like (mini_train_data)\n",
    "blur_train = gaussian_blur (rows, columns, mini_train_data)\n",
    "\n",
    "knn_classifier (k, blur_train, mini_train_labels, dev_data, dev_labels)\n",
    "\n",
    "# Run the KNN classifier on blurred training data and development data\n",
    "\n",
    "print()\n",
    "print(\"KNN classifier with blurred training and dev data\")\n",
    "\n",
    "knn_classifier (k, blur_train, mini_train_labels, blur_dev, dev_labels)\n"
   ]
  },
  {
   "cell_type": "markdown",
   "metadata": {},
   "source": [
    "ANSWER:  This Blur filter is improving the accuracy when compared to the orignal KNN classifier.  But these results show that the filter must be applied to the training data to gain the performance improvements.  Just blurring the development data (or test data) without training the model to understand this makes performance worse.  Once the model is trained with blurred data, the improvement in accuracy is over 2%.  \n"
   ]
  },
  {
   "cell_type": "markdown",
   "metadata": {},
   "source": [
    "(7) Fit a Naive Bayes classifier and report accuracy on the dev data. Remember that Naive Bayes estimates P(feature|label). While sklearn can handle real-valued features, let's start by mapping the pixel values to either 0 or 1. You can do this as a preprocessing step, or with the binarize argument. With binary-valued features, you can use BernoulliNB. Next try mapping the pixel values to 0, 1, or 2, representing white, grey, or black. This mapping requires MultinomialNB. Does the multi-class version improve the results? Why or why not?"
   ]
  },
  {
   "cell_type": "code",
   "execution_count": 53,
   "metadata": {},
   "outputs": [
    {
     "name": "stdout",
     "output_type": "stream",
     "text": [
      "Naive Bayes Classifier Accuracy Score (BernoulliNB) on Dev Data with Pixel Values Mapped to 0/1\n",
      "0.822\n",
      "\n",
      "Naive Bayes Classifier Accuracy Score (MultinomialNB) on Dev Data with Pixel Values Mapped to 0/1/2\n",
      "0.816\n"
     ]
    }
   ],
   "source": [
    "def P7():\n",
    "\n",
    "    # NB Classifier with binned data function.  The model shows binning mini_train_data into 0,1 bins and then into 3 bins.\n",
    "    # The results are reported.  \n",
    "    \n",
    "    X = mini_train_data\n",
    "    y = mini_train_labels\n",
    "    clf = BernoulliNB(alpha=0.5,binarize=0.5)\n",
    "    clf.fit(X, y)\n",
    "    print(\"Naive Bayes Classifier Accuracy Score (BernoulliNB) on Dev Data with Pixel Values Mapped to 0/1\")\n",
    "    print(clf.score(dev_data, dev_labels))\n",
    "\n",
    "    # Preprocess Training Data divide into bins by values of <=1/3, <=2/3 or other \n",
    "    mini_train_bin = np.empty_like (mini_train_data)\n",
    "    for i in range (0, len(mini_train_data)):\n",
    "        for j in range (0,784):\n",
    "            if mini_train_data[i,j] <= 1/3:\n",
    "                mini_train_bin[i,j] = 0\n",
    "                continue\n",
    "            if mini_train_data[i,j] > 1/3 and mini_train_data[i,j] <= 2/3:\n",
    "                mini_train_bin[i,j] = 1\n",
    "                continue\n",
    "            else:\n",
    "                mini_train_bin[i,j] = 2        \n",
    "\n",
    "     # Preprocess Dev Data divide into bins by values of <=1/3, <=2/3 or other \n",
    "    dev_data_bin = np.empty_like (dev_data)\n",
    "    for i in range (0, len(dev_data)):\n",
    "        for j in range (0,784):\n",
    "            if dev_data[i,j] <= 1/3:\n",
    "                dev_data_bin[i,j] = 0\n",
    "                continue\n",
    "            if dev_data[i,j] > 1/3 and dev_data[i,j] <= 2/3:\n",
    "                dev_data_bin[i,j] = 1\n",
    "                continue\n",
    "            else:\n",
    "                dev_data_bin[i,j] = 2        \n",
    "                \n",
    "    X = mini_train_bin\n",
    "    y = mini_train_labels\n",
    "    clf = MultinomialNB(alpha=.5)\n",
    "    clf.fit(X, y)\n",
    "    print()\n",
    "    print(\"Naive Bayes Classifier Accuracy Score (MultinomialNB) on Dev Data with Pixel Values Mapped to 0/1/2\")\n",
    "    print(clf.score(dev_data_bin, dev_labels))\n",
    "\n",
    "### MAIN ###\n",
    "\n",
    "P7()"
   ]
  },
  {
   "cell_type": "markdown",
   "metadata": {},
   "source": [
    "ANSWER: The mulinomial model did not improve the accuracy with these settings and binning.  I do note that if I change binarize settings on the Bernoulli model to very low thresholds to determine when a pizel becomes a 1, that the performance decreases to the multinomial level.  The accuracy would appear to be related to the fact of whether the pixels have stronger color or not.   "
   ]
  },
  {
   "cell_type": "markdown",
   "metadata": {},
   "source": [
    "(8) Use GridSearchCV to perform a search over values of alpha (the Laplace smoothing parameter) in a Bernoulli NB model. What is the best value for alpha? What is the accuracy when alpha=0? Is this what you'd expect?\n",
    "\n",
    "- Note that GridSearchCV partitions the training data so the results will be a bit different than if you used the dev data for evaluation."
   ]
  },
  {
   "cell_type": "code",
   "execution_count": 84,
   "metadata": {},
   "outputs": [
    {
     "name": "stderr",
     "output_type": "stream",
     "text": [
      "/anaconda3/lib/python3.7/site-packages/sklearn/naive_bayes.py:480: UserWarning: alpha too small will result in numeric errors, setting alpha = 1.0e-10\n",
      "  'setting alpha = %.1e' % _ALPHA_MIN)\n",
      "/anaconda3/lib/python3.7/site-packages/sklearn/naive_bayes.py:480: UserWarning: alpha too small will result in numeric errors, setting alpha = 1.0e-10\n",
      "  'setting alpha = %.1e' % _ALPHA_MIN)\n",
      "/anaconda3/lib/python3.7/site-packages/sklearn/naive_bayes.py:480: UserWarning: alpha too small will result in numeric errors, setting alpha = 1.0e-10\n",
      "  'setting alpha = %.1e' % _ALPHA_MIN)\n",
      "/anaconda3/lib/python3.7/site-packages/sklearn/naive_bayes.py:480: UserWarning: alpha too small will result in numeric errors, setting alpha = 1.0e-10\n",
      "  'setting alpha = %.1e' % _ALPHA_MIN)\n"
     ]
    },
    {
     "name": "stdout",
     "output_type": "stream",
     "text": [
      "Initial predicitions on dev_data with BernoulliNB Model and Alpha=0. Accuracy Score = 0.816\n",
      "\n",
      "\n",
      "Best Score for Varying Alpha Levels with BernoulliNB Model, mini_train data: Accuracy Score = 0.823\n",
      "Best Alpha Value to Choose on BernoulliNB for this Test: 0.01\n",
      "BernoulliNB Accuracy with Alpha=0 with Training Data on GridSearchCV Testing:  Accuracy Score = 0.804\n",
      "\n"
     ]
    },
    {
     "name": "stderr",
     "output_type": "stream",
     "text": [
      "/anaconda3/lib/python3.7/site-packages/sklearn/model_selection/_search.py:841: DeprecationWarning: The default of the `iid` parameter will change from True to False in version 0.22 and will be removed in 0.24. This will change numeric results when test-set sizes are unequal.\n",
      "  DeprecationWarning)\n"
     ]
    }
   ],
   "source": [
    "def P8(alphas):\n",
    "\n",
    "### Function uses GridSearchCV to perform a search over values of alpha (the Laplace smoothing parameter) \n",
    "### in a Bernoulli NB model. Accepts as a parameter the values of alpha to test with as a dictionary.\n",
    "### mini_train_data and mini_train_labels are used.  \n",
    "\n",
    "    model = BernoulliNB(binarize=0.000001)\n",
    "    grid = GridSearchCV(estimator=model, param_grid=alphas, cv=3)\n",
    "    grid.fit(mini_train_data, mini_train_labels)\n",
    "#    print(grid)\n",
    "\n",
    "# summarize the results of the grid search \n",
    "    print()\n",
    "    print(\"Best Score for Varying Alpha Levels with BernoulliNB Model, mini_train data:\", \"Accuracy Score =\", grid.best_score_)\n",
    "    print(\"Best Alpha Value to Choose on BernoulliNB for this Test:\", grid.best_estimator_.alpha)\n",
    "    results = grid.cv_results_ \n",
    "    print(\"BernoulliNB Accuracy with Alpha=0 with Training Data on GridSearchCV Testing: \", \"Accuracy Score =\", grid.cv_results_['mean_test_score'][0])\n",
    "    print()\n",
    "\n",
    "### MAIN ###\n",
    "\n",
    "# First fit a BernoulliNB model and produce predictions on dev_data with Alpha = 0\n",
    "X = mini_train_data\n",
    "y = mini_train_labels\n",
    "clf = BernoulliNB(alpha=0.0, binarize=0.000001)\n",
    "clf.fit(X, y)\n",
    "print(\"Initial predicitions on dev_data with BernoulliNB Model and Alpha=0.\", \"Accuracy Score =\", clf.score(dev_data, dev_labels))\n",
    "print()\n",
    "\n",
    "# Use GridSearchCV to determne the best Alpha Value\n",
    "alphas = {'alpha': [0.0, 0.0001, 0.001, 0.01, 0.1, 0.5, 1.0, 2.0, 10.0]}\n",
    "nb = P8(alphas)\n"
   ]
  },
  {
   "cell_type": "markdown",
   "metadata": {},
   "source": [
    "ANSWER:  The best setting for alpha is 0.01 as you achieve the best accuracy score at that setting.  With Alpha = 0 the accuracy is .804 which is less than the best accuracy score of 0.823 with alpha = 0.01.   This is as expected as theoretically, by increasing the Lidstone smoothing parameter, we are compensating more strongly for absent features negating the absence of a feature more vigorously.   "
   ]
  },
  {
   "cell_type": "markdown",
   "metadata": {},
   "source": [
    "(9) Try training a model using GuassianNB, which is intended for real-valued features, and evaluate on the dev data. You'll notice that it doesn't work so well. Try to diagnose the problem. You should be able to find a simple fix that returns the accuracy to around the same rate as BernoulliNB. Explain your solution.\n",
    "\n",
    "Hint: examine the parameters estimated by the fit() method, theta\\_ and sigma\\_."
   ]
  },
  {
   "cell_type": "code",
   "execution_count": 85,
   "metadata": {
    "scrolled": true
   },
   "outputs": [
    {
     "name": "stdout",
     "output_type": "stream",
     "text": [
      "Accuracy Score of GaussianNB with var_smoothing = 1e-09 is:  0.593\n",
      "\n",
      "Average Sigma Value for Digit 0 is 0.060693.\n",
      "Average Sigma Value for Digit 1 is 0.027791.\n",
      "Average Sigma Value for Digit 2 is 0.066256.\n",
      "Average Sigma Value for Digit 3 is 0.058298.\n",
      "Average Sigma Value for Digit 4 is 0.052561.\n",
      "Average Sigma Value for Digit 5 is 0.059837.\n",
      "Average Sigma Value for Digit 6 is 0.051897.\n",
      "Average Sigma Value for Digit 7 is 0.046266.\n",
      "Average Sigma Value for Digit 8 is 0.056812.\n",
      "Average Sigma Value for Digit 9 is 0.049561.\n"
     ]
    },
    {
     "name": "stderr",
     "output_type": "stream",
     "text": [
      "/anaconda3/lib/python3.7/site-packages/sklearn/model_selection/_split.py:2053: FutureWarning: You should specify a value for 'cv' instead of relying on the default value. The default value will change from 3 to 5 in version 0.22.\n",
      "  warnings.warn(CV_WARNING, FutureWarning)\n",
      "/anaconda3/lib/python3.7/site-packages/sklearn/naive_bayes.py:436: RuntimeWarning: divide by zero encountered in log\n",
      "  n_ij = - 0.5 * np.sum(np.log(2. * np.pi * self.sigma_[i, :]))\n",
      "/anaconda3/lib/python3.7/site-packages/sklearn/naive_bayes.py:438: RuntimeWarning: divide by zero encountered in true_divide\n",
      "  (self.sigma_[i, :]), 1)\n",
      "/anaconda3/lib/python3.7/site-packages/sklearn/naive_bayes.py:438: RuntimeWarning: invalid value encountered in true_divide\n",
      "  (self.sigma_[i, :]), 1)\n",
      "/anaconda3/lib/python3.7/site-packages/sklearn/naive_bayes.py:436: RuntimeWarning: divide by zero encountered in log\n",
      "  n_ij = - 0.5 * np.sum(np.log(2. * np.pi * self.sigma_[i, :]))\n",
      "/anaconda3/lib/python3.7/site-packages/sklearn/naive_bayes.py:438: RuntimeWarning: divide by zero encountered in true_divide\n",
      "  (self.sigma_[i, :]), 1)\n",
      "/anaconda3/lib/python3.7/site-packages/sklearn/naive_bayes.py:438: RuntimeWarning: invalid value encountered in true_divide\n",
      "  (self.sigma_[i, :]), 1)\n",
      "/anaconda3/lib/python3.7/site-packages/sklearn/naive_bayes.py:436: RuntimeWarning: divide by zero encountered in log\n",
      "  n_ij = - 0.5 * np.sum(np.log(2. * np.pi * self.sigma_[i, :]))\n",
      "/anaconda3/lib/python3.7/site-packages/sklearn/naive_bayes.py:438: RuntimeWarning: divide by zero encountered in true_divide\n",
      "  (self.sigma_[i, :]), 1)\n",
      "/anaconda3/lib/python3.7/site-packages/sklearn/naive_bayes.py:438: RuntimeWarning: invalid value encountered in true_divide\n",
      "  (self.sigma_[i, :]), 1)\n",
      "/anaconda3/lib/python3.7/site-packages/sklearn/naive_bayes.py:436: RuntimeWarning: divide by zero encountered in log\n",
      "  n_ij = - 0.5 * np.sum(np.log(2. * np.pi * self.sigma_[i, :]))\n",
      "/anaconda3/lib/python3.7/site-packages/sklearn/naive_bayes.py:438: RuntimeWarning: divide by zero encountered in true_divide\n",
      "  (self.sigma_[i, :]), 1)\n",
      "/anaconda3/lib/python3.7/site-packages/sklearn/naive_bayes.py:438: RuntimeWarning: invalid value encountered in true_divide\n",
      "  (self.sigma_[i, :]), 1)\n",
      "/anaconda3/lib/python3.7/site-packages/sklearn/naive_bayes.py:436: RuntimeWarning: divide by zero encountered in log\n",
      "  n_ij = - 0.5 * np.sum(np.log(2. * np.pi * self.sigma_[i, :]))\n",
      "/anaconda3/lib/python3.7/site-packages/sklearn/naive_bayes.py:438: RuntimeWarning: divide by zero encountered in true_divide\n",
      "  (self.sigma_[i, :]), 1)\n",
      "/anaconda3/lib/python3.7/site-packages/sklearn/naive_bayes.py:438: RuntimeWarning: invalid value encountered in true_divide\n",
      "  (self.sigma_[i, :]), 1)\n",
      "/anaconda3/lib/python3.7/site-packages/sklearn/naive_bayes.py:436: RuntimeWarning: divide by zero encountered in log\n",
      "  n_ij = - 0.5 * np.sum(np.log(2. * np.pi * self.sigma_[i, :]))\n",
      "/anaconda3/lib/python3.7/site-packages/sklearn/naive_bayes.py:438: RuntimeWarning: divide by zero encountered in true_divide\n",
      "  (self.sigma_[i, :]), 1)\n",
      "/anaconda3/lib/python3.7/site-packages/sklearn/naive_bayes.py:438: RuntimeWarning: invalid value encountered in true_divide\n",
      "  (self.sigma_[i, :]), 1)\n"
     ]
    },
    {
     "name": "stdout",
     "output_type": "stream",
     "text": [
      "GridSearchCV(cv='warn', error_score='raise-deprecating',\n",
      "       estimator=GaussianNB(priors=None, var_smoothing=1e-09),\n",
      "       fit_params=None, iid='warn', n_jobs=None,\n",
      "       param_grid={'var_smoothing': [0.0, 1e-10, 1e-09, 1e-08, 1e-07, 1e-06, 1e-05, 0.0001, 0.001, 0.01, 0.1, 0.5, 1.0]},\n",
      "       pre_dispatch='2*n_jobs', refit=True, return_train_score='warn',\n",
      "       scoring=None, verbose=0)\n",
      "\n",
      "GridSearchCV Best var_smoothing Recommendation and Accuracy Score Prediction on Training Data\n",
      "Best Score: 0.797\n",
      "Best var_smoothing: 0.1\n",
      "\n",
      "Accuracy Score of GaussianNB with var_smoothing = .1 is:  0.817\n",
      "<bound method BaseEstimator.get_params of GaussianNB(priors=None, var_smoothing=0.1)>\n"
     ]
    },
    {
     "name": "stderr",
     "output_type": "stream",
     "text": [
      "/anaconda3/lib/python3.7/site-packages/sklearn/model_selection/_search.py:841: DeprecationWarning: The default of the `iid` parameter will change from True to False in version 0.22 and will be removed in 0.24. This will change numeric results when test-set sizes are unequal.\n",
      "  DeprecationWarning)\n"
     ]
    }
   ],
   "source": [
    "def P9():\n",
    "\n",
    "    # Function to train a model using GuassianNB and evaluate it on the dev_data. \n",
    "    X = mini_train_data\n",
    "    y = mini_train_labels\n",
    "    clf = GaussianNB(priors=None, var_smoothing=1e-09)\n",
    "    clf.fit(X, y)\n",
    "    print(\"Accuracy Score of GaussianNB with var_smoothing = 1e-09 is: \", clf.score(dev_data, dev_labels))\n",
    "    print()\n",
    "\n",
    "    # We note that this model does not perform well.  Let's diagnose why by printing and looking at Sigmas.\n",
    "    for i in range(10):\n",
    "    #    print(\"Theta of \", i, \" \", clf.theta_[i])\n",
    "    #    print(\"sigma of \", i, \" \", clf.sigma_[i])\n",
    "\n",
    "        avg = 0\n",
    "        for j in range (0,784):\n",
    "            avg = avg + clf.sigma_[i][j]\n",
    "        avg = avg/784\n",
    "        print (\"Average Sigma Value for Digit {:1} is {:.6f}.\".format(i, avg))\n",
    "\n",
    "\n",
    "    # Use GridsearchCV to determine a better parameter value for var_smoothing to imporve the accuaracy since the sigmas are so low\n",
    "    var_smoothing = {'var_smoothing': [0.0, 0.0000000001, 0.000000001, 0.00000001, 0.0000001, 0.000001, 0.00001, 0.0001, 0.001, 0.01, 0.1, 0.5, 1.0]}\n",
    "    model = GaussianNB(priors=None)\n",
    "    grid = GridSearchCV(estimator=model, param_grid=var_smoothing)\n",
    "    grid.fit(mini_train_data, mini_train_labels)\n",
    "    print(grid)\n",
    "\n",
    "    # Summarize the results of GridSearchCV\n",
    "    print()\n",
    "    print(\"GridSearchCV Best var_smoothing Recommendation and Accuracy Score Prediction on Training Data\")\n",
    "    print(\"Best Score:\", grid.best_score_)\n",
    "    print(\"Best var_smoothing:\", grid.best_estimator_.var_smoothing)\n",
    "    print()\n",
    "\n",
    "    # Plug the best var_smoothing parameter of .1 back into GaussianNB to produce a comparable accuracy score\n",
    "    X = mini_train_data\n",
    "    y = mini_train_labels\n",
    "    clf = GaussianNB(priors=None, var_smoothing=1e-01)\n",
    "    clf.fit(X, y)\n",
    "    print(\"Accuracy Score of GaussianNB with var_smoothing = .1 is: \", clf.score(dev_data, dev_labels))\n",
    "    print(clf.get_params)\n",
    "\n",
    "### MAIN ###\n",
    "\n",
    "gnb = P9()"
   ]
  },
  {
   "cell_type": "markdown",
   "metadata": {},
   "source": [
    "ANSWER: I trained a model using GuassianNB on mini-train data and and evaluated on the dev data. The accuracy is only around 59%. If you examine the sigmas, of the data, the standard deviation is extremely small around the blank spaces of the images.  If we smooth this data we may get a better result.  By using GridSearchCV to estimate potentially a better var_smoothing parameter, I learned that by changing smoothing from 1e-09 to 1e-01, I could return the model to about the same accuracy rate (81.7%) as the BernoulliNB model results in problem 8 above. "
   ]
  },
  {
   "cell_type": "markdown",
   "metadata": {},
   "source": [
    "(10) Because Naive Bayes is a generative model, we can use the trained model to generate digits. Train a BernoulliNB model and then generate a 10x20 grid with 20 examples of each digit. Because you're using a Bernoulli model, each pixel output will be either 0 or 1. How do the generated digits compare to the training digits?\n",
    "\n",
    "- You can use np.random.rand() to generate random numbers from a uniform distribution\n",
    "- The estimated probability of each pixel is stored in feature\\_log\\_prob\\_. You'll need to use np.exp() to convert a log probability back to a probability."
   ]
  },
  {
   "cell_type": "code",
   "execution_count": 91,
   "metadata": {},
   "outputs": [
    {
     "data": {
      "image/png": "[encoded data removed]",
      "text/plain": [
       "<Figure size 432x288 with 200 Axes>"
      ]
     },
     "metadata": {
      "needs_background": "light"
     },
     "output_type": "display_data"
    }
   ],
   "source": [
    "def P10(num_examples):\n",
    "\n",
    "    #Fit Naive Bayes Classifier from mini_train_data and predict on dev_data\n",
    "\n",
    "    X = mini_train_data\n",
    "    y = mini_train_labels\n",
    "    clf = BernoulliNB(alpha=0.5,binarize=0.000001)\n",
    "    clf.fit(X, y)\n",
    "    y_predict = clf.predict(dev_data)\n",
    "\n",
    "    # Build grid for each of 10 digits\n",
    "    for i in range(10):\n",
    "        for j in range(num_examples):\n",
    "            # Process each digit (0-9) X 20 of them\n",
    "            matrix = np.exp(clf.feature_log_prob_[i])\n",
    "\n",
    "            # Go through each probability matrix item (k) and compare each pixel with a random number n.\n",
    "            # if probability greater than n set the pixel to 1, else 0\n",
    "            for k, pixel_prob in enumerate(matrix):\n",
    "                n = np.random.rand()\n",
    "                if pixel_prob > n:\n",
    "                    matrix[k] = 1\n",
    "                else:\n",
    "                    matrix[k] = 0\n",
    "\n",
    "            #  Plot each digit\n",
    "            plt.subplot(10, 20, (i*20) + (j+1))\n",
    "            plt.axis('off')\n",
    "            plt.imshow(matrix.reshape(28,28), cmap='gray')\n",
    "\n",
    "    plt.show()\n",
    "\n",
    "### MAIN ###\n",
    "\n",
    "P10(20)"
   ]
  },
  {
   "cell_type": "markdown",
   "metadata": {},
   "source": [
    "ANSWER: How do the generated digits compare to the training digits?  The generated digits are blurier than the training digits.  This is because we are applying even greater levels of uncertainty to the predicition of each pixel (which is in itself, already uncertain).  We are using a random number generator and deciding if a pixel should be turned on if it's value is greater than the random value from the generator.  This increases noise in the predicition and lowers the quality.  "
   ]
  },
  {
   "cell_type": "markdown",
   "metadata": {},
   "source": [
    "(11) Remember that a strongly calibrated classifier is rougly 90% accurate when the posterior probability of the predicted class is 0.9. A weakly calibrated classifier is more accurate when the posterior is 90% than when it is 80%. A poorly calibrated classifier has no positive correlation between posterior and accuracy.\n",
    "\n",
    "Train a BernoulliNB model with a reasonable alpha value. For each posterior bucket (think of a bin in a histogram), you want to estimate the classifier's accuracy. So for each prediction, find the bucket the maximum posterior belongs to and update the \"correct\" and \"total\" counters.\n",
    "\n",
    "How would you characterize the calibration for the Naive Bayes model?"
   ]
  },
  {
   "cell_type": "code",
   "execution_count": 92,
   "metadata": {},
   "outputs": [
    {
     "name": "stdout",
     "output_type": "stream",
     "text": [
      "p(pred) <= 0.5000000000000    total =   1    accuracy = 0.000\n",
      "p(pred) <= 0.9000000000000    total =  31    accuracy = 0.387\n",
      "p(pred) <= 0.9990000000000    total =  75    accuracy = 0.413\n",
      "p(pred) <= 0.9999900000000    total =  62    accuracy = 0.500\n",
      "p(pred) <= 0.9999999000000    total =  52    accuracy = 0.615\n",
      "p(pred) <= 0.9999999990000    total =  55    accuracy = 0.745\n",
      "p(pred) <= 0.9999999999900    total =  41    accuracy = 0.707\n",
      "p(pred) <= 0.9999999999999    total =  53    accuracy = 0.811\n",
      "p(pred) <= 1.0000000000000    total = 630    accuracy = 0.948\n",
      "\n",
      "Checks\n",
      "Sum of Totals by Bin: 1000\n",
      "Count of Corrects = 816 which Equals the Accuracy Score when Divided by 1000 of 0.816\n"
     ]
    }
   ],
   "source": [
    "def P11(buckets, correct, total):\n",
    "\n",
    "    # Train a BernoulliNB model with mini_train_data and predict on dev_data\n",
    "    \n",
    "    X = mini_train_data\n",
    "    y = mini_train_labels\n",
    "    clf = BernoulliNB(alpha=0.5,binarize=0.000001)\n",
    "    clf.fit(X, y)\n",
    "    y_predict = clf.predict(dev_data)\n",
    "    \n",
    "    #generate the 1000 length probability matrix for each digit 10 wide\n",
    "    prob = clf.predict_proba(dev_data)    \n",
    "\n",
    "    # generate a 1000 length vector of the best probability for each predicition\n",
    "    for i in range (len(y_predict)): max_prob [i] = prob[i][y_predict[i]]      \n",
    "    \n",
    "    # bucket the 1000 probabilities into the probability buckets, bins is the bin number each prob is in.\n",
    "    bins = np.digitize(max_prob, buckets, right=True)     \n",
    "    \n",
    "    # accumulate totals for the 9 bins\n",
    "    for i in bins: total[i] += 1       \n",
    "\n",
    "     # accumulate correct counts for the 9 bins   \n",
    "    for i in range (len(y_predict)): \n",
    "        if y_predict[i] == dev_labels[i]: \n",
    "            correct[bins[i]] += 1\n",
    "               \n",
    "### MAIN ###\n",
    "\n",
    "buckets = [0.5, 0.9, 0.999, 0.99999, 0.9999999, 0.999999999, 0.99999999999, 0.9999999999999, 1.0]\n",
    "correct = [0 for i in buckets]\n",
    "total = [0 for i in buckets]\n",
    "max_prob = [0 for i in dev_labels]\n",
    "\n",
    "P11(buckets, correct, total)\n",
    "\n",
    "for i in range(len(buckets)):\n",
    "    accuracy = 0.0\n",
    "    if (total[i] > 0): accuracy = correct[i] / total[i]\n",
    "    print ('p(pred) <= %.13f    total = %3d    accuracy = %.3f' %(buckets[i], total[i], accuracy))\n",
    "\n",
    "print() \n",
    "print(\"Checks\")\n",
    "sum = 0    \n",
    "for n in total: sum = sum + n\n",
    "print(\"Sum of Totals by Bin:\", sum)\n",
    "\n",
    "sum = 0    \n",
    "for n in correct: sum = sum + n\n",
    "print(\"Count of Corrects =\", sum, \"which Equals the Accuracy Score when Divided by 1000 of\", clf.score(dev_data, dev_labels))  "
   ]
  },
  {
   "cell_type": "markdown",
   "metadata": {},
   "source": [
    "ANSWER:I would characterized the calibration of this model to be weakly calibrated.  There is definitely a correlation between posterior probability and the accuracy so it is not poorly calibrated. It is not strongly calibrated as when the posterior probability is in the 90-99.9% range, the accuracy is only 41.3% and even lower in the 50-90% range.  So I believe it to be weakly calibrated as when the posterior probability of the model increases, so does the accuracy in all cases except one (the step between bin 6 and 7 where accuracy goes down from .745 to .707.)   "
   ]
  },
  {
   "cell_type": "markdown",
   "metadata": {},
   "source": [
    "(12) EXTRA CREDIT\n",
    "\n",
    "Try designing extra features to see if you can improve the performance of Naive Bayes on the dev set. Here are a few ideas to get you started:\n",
    "- Try summing the pixel values in each row and each column.\n",
    "- Try counting the number of enclosed regions; 8 usually has 2 enclosed regions, 9 usually has 1, and 7 usually has 0.\n",
    "\n",
    "Make sure you comment your code well!"
   ]
  },
  {
   "cell_type": "code",
   "execution_count": 81,
   "metadata": {},
   "outputs": [
    {
     "name": "stdout",
     "output_type": "stream",
     "text": [
      "New model accuracy with column sum feature is: 0.829\n"
     ]
    }
   ],
   "source": [
    "def P12():\n",
    "\n",
    "    # 4s and 9s were the most confused digits in this data set. This is due to the similarity in the shape of the 2 digits.\n",
    "    # There is one key difference in the shape; the 4 will be open on the top where the 9 would have a continuous line.  \n",
    "    # That should result in the 9 having more pixel values in those columns.  This function will try and improve accuracy \n",
    "    # by focusing on that difference and summing the column pixel values of each digit as a new piece of information and \n",
    "    # storing that data in a new row 29 as the sum of each column.  Our matrix size is now 29X28.  The function accepts a \n",
    "    # data set parameter and returns a modified data set. \n",
    "    \n",
    "    def distiguish_4_and_9(data_set):\n",
    "        \n",
    "        # This function initializes an array, stores the original pixels and adds a new 29th row of summed columns.\n",
    "        \n",
    "        enhanced_data_set = np.zeros((len(data_set), 29, 28))\n",
    "        for i in range(len(data_set)):\n",
    "            enhanced_data_set[i][0:28] = data_set[i].reshape(28,28)\n",
    "            enhanced_data_set[i][28] = np.sum(data_set[i].reshape(28,28), axis=0)\n",
    "    \n",
    "        return enhanced_data_set\n",
    "    \n",
    "\n",
    "    #Build new versions of training and development data that include the new column sum feature \n",
    "    enhanced_mini_data = distiguish_4_and_9(mini_train_data).reshape(1000,812)\n",
    "    enhanced_dev_data = distiguish_4_and_9(dev_data).reshape(1000,812)\n",
    "\n",
    "    # Fit the BernoulliNB model on the enhanced data sets\n",
    "    clf = BernoulliNB(alpha=0.01, binarize=.5)\n",
    "    clf.fit(enhanced_mini_data, mini_train_labels)\n",
    "    print ('New model accuracy with column sum feature is: {:.3f}'.format(clf.score(enhanced_dev_data, dev_labels)))\n",
    "\n",
    "### Main ### \n",
    "\n",
    "P12()"
   ]
  },
  {
   "cell_type": "code",
   "execution_count": null,
   "metadata": {},
   "outputs": [],
   "source": []
  }
 ],
 "metadata": {
  "kernelspec": {
   "display_name": "Python 3",
   "language": "python",
   "name": "python3"
  },
  "language_info": {
   "codemirror_mode": {
    "name": "ipython",
    "version": 3
   },
   "file_extension": ".py",
   "mimetype": "text/x-python",
   "name": "python",
   "nbconvert_exporter": "python",
   "pygments_lexer": "ipython3",
   "version": "3.7.1"
  }
 },
 "nbformat": 4,
 "nbformat_minor": 1
}
